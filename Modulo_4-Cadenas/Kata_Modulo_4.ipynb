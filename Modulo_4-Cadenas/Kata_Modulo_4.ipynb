{
 "cells": [
  {
   "cell_type": "markdown",
   "metadata": {},
   "source": [
    "Ejercicio 1: Transformar cadenas"
   ]
  },
  {
   "cell_type": "code",
   "execution_count": 14,
   "metadata": {},
   "outputs": [
    {
     "name": "stdout",
     "output_type": "stream",
     "text": [
      "Palabra encontrada:  average\n",
      "Palabra encontrada:  temperature\n",
      "Palabra cambiada: Celsius\n"
     ]
    }
   ],
   "source": [
    "text = \"\"\"Interesting facts about the Moon. The Moon is Earth's only satellite. There are several interesting facts about the Moon and how it affects life here on Earth. \n",
    "On average, the Moon moves 4cm away from the Earth every year. This yearly drift is not significant enough to cause immediate effects on Earth. The highest daylight temperature of the Moon is 127 C.\"\"\"\n",
    "\n",
    "text = text.replace(',', '')\n",
    "text = text.replace('\\n', '')\n",
    "text = text.split(' ')\n",
    "palabras_buscar = ['average', 'temperature' , 'distance']\n",
    "\n",
    "for i in text: \n",
    "    if i in palabras_buscar: \n",
    "        print('Palabra encontrada: ', i)\n",
    "    elif i == 'C.':\n",
    "        print('Palabra cambiada: Celsius')\n"
   ]
  },
  {
   "cell_type": "markdown",
   "metadata": {},
   "source": [
    "Ejercicio 2: Formateando Cadenas"
   ]
  },
  {
   "cell_type": "code",
   "execution_count": 5,
   "metadata": {},
   "outputs": [
    {
     "name": "stdout",
     "output_type": "stream",
     "text": [
      "Gravity Facts about Moon\n",
      "----------------------------------------\n",
      "Planet Name: Earth\n",
      "Gravity on Moon : 16.2 m/s2\n",
      "\n"
     ]
    }
   ],
   "source": [
    "# Datos con los que vas a trabajar\n",
    "name = \"Moon\"\n",
    "gravity = 0.00162 # in kms\n",
    "planet = \"Earth\"\n",
    "\n",
    "mass_percentage = '1/6'\n",
    "\n",
    "print(\"\"\"Gravity Facts about {name}\n",
    "----------------------------------------\n",
    "Planet Name: {planet}\n",
    "Gravity on {name} : {gravity} m/s2\n",
    "\"\"\".format(name=name, gravity=gravity*10000, planet= planet))"
   ]
  },
  {
   "cell_type": "markdown",
   "metadata": {},
   "source": []
  },
  {
   "cell_type": "code",
   "execution_count": 16,
   "metadata": {},
   "outputs": [
    {
     "name": "stdout",
     "output_type": "stream",
     "text": [
      "Gravity Facts about Ganímedes\n",
      "----------------------------------------\n",
      "Planet Name: Marte\n",
      "Gravity on Ganímedes : 0.00143 m/s2\n",
      "\n"
     ]
    }
   ],
   "source": [
    "# Datos con los que vas a trabajar\n",
    "name = 'Ganímedes'\n",
    "gravity = 0.00143 # in kms\n",
    "planet = 'Marte'\n",
    "\n",
    "title = f'Gravity Facts about {name}'\n",
    "\n",
    "plantilla = f\"\"\"----------------------------------------\n",
    "Planet Name: {planet}\n",
    "Gravity on {name} : {gravity} m/s2\n",
    "\"\"\"\n",
    "\n",
    "print (title +'\\n' + plantilla.format(name=name, gravity=gravity*1000, planet= planet))"
   ]
  }
 ],
 "metadata": {
  "interpreter": {
   "hash": "6b3ea8e9c5594e53fe8b88bc5b639b9fa79a414c20aaf554547719b0a946abd9"
  },
  "kernelspec": {
   "display_name": "Python 3.7.1 64-bit",
   "language": "python",
   "name": "python3"
  },
  "language_info": {
   "codemirror_mode": {
    "name": "ipython",
    "version": 3
   },
   "file_extension": ".py",
   "mimetype": "text/x-python",
   "name": "python",
   "nbconvert_exporter": "python",
   "pygments_lexer": "ipython3",
   "version": "3.7.1"
  },
  "orig_nbformat": 4
 },
 "nbformat": 4,
 "nbformat_minor": 2
}
