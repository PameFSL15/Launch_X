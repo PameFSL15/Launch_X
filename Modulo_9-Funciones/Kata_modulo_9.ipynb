{
 "cells": [
  {
   "cell_type": "markdown",
   "metadata": {},
   "source": [
    "Ejercicio 1: Trabajar con argumentos en funciones"
   ]
  },
  {
   "cell_type": "code",
   "execution_count": 9,
   "metadata": {},
   "outputs": [
    {
     "name": "stdout",
     "output_type": "stream",
     "text": [
      "REPORTE: \n",
      "    Tanque1: 1\n",
      "    Tanque2: 2\n",
      "    Tanque3: 3\n",
      "    Promedio: 2.0\n"
     ]
    }
   ],
   "source": [
    "#Parte 1\n",
    "def generaReporte (tanque1, tanque2, tanque3):\n",
    "    promedio =  (tanque1+tanque2+tanque3)/3\n",
    "    return f\"\"\"REPORTE: \n",
    "    Tanque1: {tanque1}\n",
    "    Tanque2: {tanque2}\n",
    "    Tanque3: {tanque3 }\n",
    "    Promedio: {promedio}\"\"\"\n",
    "\n",
    "print(generaReporte(1,2,3))    "
   ]
  },
  {
   "cell_type": "code",
   "execution_count": 11,
   "metadata": {},
   "outputs": [
    {
     "name": "stdout",
     "output_type": "stream",
     "text": [
      "REPORTE: \n",
      "    Tanque1: 1\n",
      "    Tanque2: 2\n",
      "    Tanque3: 3\n",
      "    Promedio: 2.0\n"
     ]
    }
   ],
   "source": [
    "#parte 2\n",
    "\n",
    "def promedio (lista):\n",
    "    return sum(lista)/len(lista)\n",
    "\n",
    "\n",
    "def generaReporte (tanque1, tanque2, tanque3):\n",
    "    return f\"\"\"REPORTE: \n",
    "    Tanque1: {tanque1}\n",
    "    Tanque2: {tanque2}\n",
    "    Tanque3: {tanque3 }\n",
    "    Promedio: {promedio([tanque1, tanque2, tanque3])}\"\"\"\n",
    "\n",
    "print(generaReporte(1,2,3))    \n"
   ]
  },
  {
   "cell_type": "markdown",
   "metadata": {},
   "source": [
    "Ejercicio 2: Trabajo con argumentos de palabra clave"
   ]
  },
  {
   "cell_type": "code",
   "execution_count": 12,
   "metadata": {},
   "outputs": [
    {
     "name": "stdout",
     "output_type": "stream",
     "text": [
      "REPORTE: \n",
      "    Hora de prelanzamiento: 13:45 hrs\n",
      "    Destino: Tokio\n",
      "    Tiempo total de vuelo: 1260 minutos\n",
      "    Total de combustible: 57\n"
     ]
    }
   ],
   "source": [
    "# Función con un informe preciso de la misión. \n",
    "# Considera hora de prelanzamiento, tiempo de vuelo, destino, tanque externo y tanque interno\n",
    "\n",
    "#Parte 1 \n",
    "\n",
    "def generaReporte (hora, destino, *minutos, **combustible):\n",
    "    #   *args los valores se almacenan en forma de lista \n",
    "    #   **kwargs los valores se almacenan en forma de diccionario por eso ponemos nombre = \n",
    "    \n",
    "    return f\"\"\"REPORTE: \n",
    "    Hora de prelanzamiento: {hora}\n",
    "    Destino: {destino}\n",
    "    Tiempo total de vuelo: {sum(minutos)} minutos\n",
    "    Total de combustible: {sum(combustible.values())}\"\"\"\n",
    "    \n",
    "\n",
    "\n",
    "print(generaReporte('13:45 hrs', 'Tokio', 1200, 60, comb1=12, comb2=45))    "
   ]
  },
  {
   "cell_type": "code",
   "execution_count": 18,
   "metadata": {},
   "outputs": [
    {
     "name": "stdout",
     "output_type": "stream",
     "text": [
      "REPORTE: \n",
      "    Hora de prelanzamiento: 13:45 hrs\n",
      "    Destino: Tokio\n",
      "    Tiempo total de vuelo: 1260 minutos\n",
      "    Combustible Total: 57\n",
      "    \n",
      "    Detalle de cada tanque\n",
      "\t * El tanque comb1 contiene 12 de combustible\n",
      "\t * El tanque comb2 contiene 45 de combustible\n",
      "\n"
     ]
    }
   ],
   "source": [
    "# Parte 2 \n",
    "\n",
    "def generaReporte (hora, destino, *minutos, **combustible):\n",
    "    #   *args los valores se almacenan en forma de lista \n",
    "    #   **kwargs los valores se almacenan en forma de diccionario por eso ponemos nombre = \n",
    "    reporte = ''\n",
    "\n",
    "    reporte+= f\"\"\"REPORTE: \n",
    "    Hora de prelanzamiento: {hora}\n",
    "    Destino: {destino}\n",
    "    Tiempo total de vuelo: {sum(minutos)} minutos\n",
    "    Combustible Total: {sum(combustible.values())}\n",
    "    \n",
    "    Detalle de cada tanque\n",
    "\"\"\"\n",
    "\n",
    "    for nombre, valor in combustible.items(): \n",
    "        reporte+= f\"\\t * El tanque {nombre} contiene {valor} de combustible\\n\"\n",
    "    \n",
    "    return reporte\n",
    "    \n",
    "\n",
    "\n",
    "print(generaReporte('13:45 hrs', 'Tokio', 1200, 60, comb1=12, comb2=45)) \n",
    "\n",
    "# .iteritems()"
   ]
  }
 ],
 "metadata": {
  "interpreter": {
   "hash": "6b3ea8e9c5594e53fe8b88bc5b639b9fa79a414c20aaf554547719b0a946abd9"
  },
  "kernelspec": {
   "display_name": "Python 3.7.1 64-bit",
   "language": "python",
   "name": "python3"
  },
  "language_info": {
   "codemirror_mode": {
    "name": "ipython",
    "version": 3
   },
   "file_extension": ".py",
   "mimetype": "text/x-python",
   "name": "python",
   "nbconvert_exporter": "python",
   "pygments_lexer": "ipython3",
   "version": "3.7.1"
  },
  "orig_nbformat": 4
 },
 "nbformat": 4,
 "nbformat_minor": 2
}
