{
 "cells": [
  {
   "cell_type": "markdown",
   "metadata": {},
   "source": [
    "Ejercicio 1 y 2: Creación de un bucle \"while\" y \"for\""
   ]
  },
  {
   "cell_type": "code",
   "execution_count": 4,
   "metadata": {},
   "outputs": [
    {
     "name": "stdout",
     "output_type": "stream",
     "text": [
      "Los planetas ingresados son: \n",
      "\t1\n",
      "\t2\n",
      "\t3\n",
      "\t4\n",
      "\t5\n",
      "\tplanet\n"
     ]
    }
   ],
   "source": [
    "#  Ejercicio 1 \n",
    "#++++++++++++++++++++++++++\n",
    "\n",
    "# Creamos la variable que almacena el texto\n",
    "new_planet = ''\n",
    "# Creamos la lista que almacena los planetas que el usuario ingresa\n",
    "planetas = []\n",
    "\n",
    "# Ciclo while\n",
    "while new_planet.lower() != 'done':\n",
    "    # Verificamos si hay un valor en new_planet\n",
    "    if new_planet:\n",
    "        # Almacenamos ese valor en la lista\n",
    "        planetas.append(new_planet)\n",
    "    # Capturamos un nuevo valornew_planet\n",
    "    new_planet = input('Ingresa un planeta, en caso de no quere agregar más planetas a la lista ingresa done\\n ')\n",
    "\n",
    "\n",
    "#  Ejercicio 2: Mostrar los planetas \n",
    "#++++++++++++++++++++++++++++++++++++++++\n",
    "print('Los planetas ingresados son: ')\n",
    "for planeta in planetas: \n",
    "    print('\\t' + planeta)\n"
   ]
  }
 ],
 "metadata": {
  "interpreter": {
   "hash": "2e5c6628eef985e7fd2fa2aad22c988c5b8aa1d2648cf9c51c543a2a2637c546"
  },
  "kernelspec": {
   "display_name": "Python 3.6.6 64-bit",
   "language": "python",
   "name": "python3"
  },
  "language_info": {
   "codemirror_mode": {
    "name": "ipython",
    "version": 3
   },
   "file_extension": ".py",
   "mimetype": "text/x-python",
   "name": "python",
   "nbconvert_exporter": "python",
   "pygments_lexer": "ipython3",
   "version": "3.7.1"
  },
  "orig_nbformat": 4
 },
 "nbformat": 4,
 "nbformat_minor": 2
}
