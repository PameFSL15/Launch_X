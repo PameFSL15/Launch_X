{
 "cells": [
  {
   "cell_type": "markdown",
   "metadata": {},
   "source": [
    "Ejercicio1 - Utilizar operadores aritméticos"
   ]
  },
  {
   "cell_type": "code",
   "execution_count": 2,
   "metadata": {},
   "outputs": [
    {
     "name": "stdout",
     "output_type": "stream",
     "text": [
      "La distancia en Km es 628949330\n",
      "La distancia en millas es 390577533.93\n"
     ]
    }
   ],
   "source": [
    "#Programa para caulcular la distancia entre dos planetas\n",
    "\n",
    "# Declaracion de variables \n",
    "distancia_tierra = 149597870\n",
    "distancia_jupiter = 778547200\n",
    "\n",
    "dist_Tierra_jupiter = abs(distancia_tierra-distancia_jupiter)\n",
    "\n",
    "print('La distancia en Km es', dist_Tierra_jupiter)\n",
    "\n",
    "print('La distancia en millas es', dist_Tierra_jupiter*0.621)"
   ]
  },
  {
   "cell_type": "markdown",
   "metadata": {},
   "source": [
    "Ejercicio 2: convierte cadenas en números y usa valores absolutos"
   ]
  },
  {
   "cell_type": "code",
   "execution_count": 2,
   "metadata": {},
   "outputs": [
    {
     "name": "stdout",
     "output_type": "stream",
     "text": [
      "La distancia en Km entre los dos planetas es:  10\n",
      "La distancia en millas entre los dos planetas es:  6.21\n"
     ]
    }
   ],
   "source": [
    "# Ejercicio 2: convierte cadenas en números y usa valores absolutos\n",
    "\n",
    "distancia_p1 = int( input('Ingresa la distancia del planeta 1: ') )\n",
    "distancia_p2 = int(input('Ingresa la distancia del planeta 2: ') )\n",
    "\n",
    "\n",
    "print('La distancia en Km entre los dos planetas es: ', abs(distancia_p2 - distancia_p1))\n",
    "print('La distancia en millas entre los dos planetas es: ', abs(distancia_p2 - distancia_p1)*0.621)"
   ]
  }
 ],
 "metadata": {
  "interpreter": {
   "hash": "6b3ea8e9c5594e53fe8b88bc5b639b9fa79a414c20aaf554547719b0a946abd9"
  },
  "kernelspec": {
   "display_name": "Python 3.7.1 64-bit",
   "language": "python",
   "name": "python3"
  },
  "language_info": {
   "codemirror_mode": {
    "name": "ipython",
    "version": 3
   },
   "file_extension": ".py",
   "mimetype": "text/x-python",
   "name": "python",
   "nbconvert_exporter": "python",
   "pygments_lexer": "ipython3",
   "version": "3.7.1"
  },
  "orig_nbformat": 4
 },
 "nbformat": 4,
 "nbformat_minor": 2
}
