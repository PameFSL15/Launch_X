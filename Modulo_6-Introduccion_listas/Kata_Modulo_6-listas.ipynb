{
 "cells": [
  {
   "cell_type": "markdown",
   "metadata": {},
   "source": [
    "Ejercicio 1 "
   ]
  },
  {
   "cell_type": "code",
   "execution_count": 5,
   "metadata": {},
   "outputs": [
    {
     "name": "stdout",
     "output_type": "stream",
     "text": [
      "Lista de planetas:  ['Mercurio', 'Venus', 'Tierra', 'Marte', 'Jupiter', 'Saturno', 'Urano', 'Neptuno']\n",
      "\n",
      "Planetas con pluton:  ['Mercurio', 'Venus', 'Tierra', 'Marte', 'Jupiter', 'Saturno', 'Urano', 'Neptuno', 'Pluton']\n",
      "El planeta que se agregó es:  Pluton\n"
     ]
    }
   ],
   "source": [
    "# Se crea lista con los planetas (sin mercurio)\n",
    "planetas = ['Mercurio', 'Venus', 'Tierra', 'Marte', 'Jupiter', 'Saturno', 'Urano', 'Neptuno']\n",
    "print('Lista de planetas: ', planetas)\n",
    "\n",
    "# Se agrega pluton a la lista\n",
    "planetas.append('Pluton')\n",
    "print('\\nPlanetas con pluton: ', planetas)\n",
    "print('El planeta que se agregó es: ', planetas[len(planetas)-1])\n"
   ]
  },
  {
   "cell_type": "markdown",
   "metadata": {},
   "source": [
    "Ejercicio 2"
   ]
  },
  {
   "cell_type": "code",
   "execution_count": 12,
   "metadata": {},
   "outputs": [
    {
     "name": "stdout",
     "output_type": "stream",
     "text": [
      "Los planetas más cercanos al sol son:  ['Mercurio', 'Venus', 'Tierra', 'Marte']\n",
      "Los planetas más lejanos al sol son:  ['Saturno', 'Urano', 'Neptuno']\n"
     ]
    }
   ],
   "source": [
    "# Lista de planetas\n",
    "planetas = ['Mercurio', 'Venus', 'Tierra', 'Marte', 'Jupiter', 'Saturno', 'Urano', 'Neptuno']\n",
    "\n",
    "# se solicita al usuario un nombre de un planeta\n",
    "planeta = input('Ingresa el nombre del planeta: (solo la primera letra en mayuscula) ')\n",
    "\n",
    "try:\n",
    "    print('Los planetas más cercanos al sol son: ', planetas[:planetas.index(planeta)])\n",
    "    print('Los planetas más lejanos al sol son: ', planetas[planetas.index(planeta)+1:])\n",
    "\n",
    "except: \n",
    "    print('Ese planeta no existe')\n"
   ]
  }
 ],
 "metadata": {
  "interpreter": {
   "hash": "2e5c6628eef985e7fd2fa2aad22c988c5b8aa1d2648cf9c51c543a2a2637c546"
  },
  "kernelspec": {
   "display_name": "Python 3.6.6 64-bit",
   "language": "python",
   "name": "python3"
  },
  "language_info": {
   "codemirror_mode": {
    "name": "ipython",
    "version": 3
   },
   "file_extension": ".py",
   "mimetype": "text/x-python",
   "name": "python",
   "nbconvert_exporter": "python",
   "pygments_lexer": "ipython3",
   "version": "3.7.1"
  },
  "orig_nbformat": 4
 },
 "nbformat": 4,
 "nbformat_minor": 2
}
